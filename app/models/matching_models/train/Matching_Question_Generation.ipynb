{
  "cells": [
    {
      "cell_type": "markdown",
      "metadata": {
        "id": "Uk2-fkNo9ghz"
      },
      "source": [
        "# Dependencies"
      ]
    },
    {
      "cell_type": "code",
      "execution_count": 1,
      "metadata": {
        "colab": {
          "base_uri": "https://localhost:8080/"
        },
        "id": "CpKPW3R59ZCz",
        "outputId": "2fefe8a9-4aea-48a5-b79b-e236d45f6fa8"
      },
      "outputs": [
        {
          "name": "stdout",
          "output_type": "stream",
          "text": [
            "  Preparing metadata (setup.py) ... \u001b[?25l\u001b[?25hdone\n",
            "  Building wheel for flashtext (setup.py) ... \u001b[?25l\u001b[?25hdone\n",
            "  Preparing metadata (setup.py) ... \u001b[?25l\u001b[?25hdone\n",
            "\u001b[2K   \u001b[90m━━━━━━━━━━━━━━━━━━━━━━━━━━━━━━━━━━━━━━━━\u001b[0m \u001b[32m235.5/235.5 kB\u001b[0m \u001b[31m4.8 MB/s\u001b[0m eta \u001b[36m0:00:00\u001b[0m\n",
            "\u001b[?25h  Building wheel for pke (setup.py) ... \u001b[?25l\u001b[?25hdone\n"
          ]
        }
      ],
      "source": [
        "!pip install --quiet flashtext\n",
        "!pip install --quiet git+https://github.com/boudinfl/pke.git\n",
        "!pip install --quiet transformers\n",
        "!pip install --quiet sentencepiece"
      ]
    },
    {
      "cell_type": "code",
      "execution_count": 7,
      "metadata": {
        "colab": {
          "base_uri": "https://localhost:8080/"
        },
        "id": "fqsoIYjN-BMP",
        "outputId": "938211a9-031f-4c3a-a4fd-8f6d0df4e519"
      },
      "outputs": [
        {
          "name": "stderr",
          "output_type": "stream",
          "text": [
            "[nltk_data] Downloading package stopwords to /root/nltk_data...\n",
            "[nltk_data]   Package stopwords is already up-to-date!\n",
            "[nltk_data] Downloading package wordnet to /root/nltk_data...\n",
            "[nltk_data]   Package wordnet is already up-to-date!\n",
            "[nltk_data] Downloading package punkt_tab to /root/nltk_data...\n",
            "[nltk_data]   Unzipping tokenizers/punkt_tab.zip.\n"
          ]
        }
      ],
      "source": [
        "import json\n",
        "import requests\n",
        "import string\n",
        "import re\n",
        "import nltk\n",
        "import string\n",
        "import itertools\n",
        "nltk.download('stopwords')\n",
        "nltk.download('wordnet')\n",
        "nltk.download('punkt_tab')\n",
        "import pke\n",
        "from nltk.corpus import stopwords\n",
        "from nltk.corpus import wordnet\n",
        "import traceback\n",
        "from nltk.tokenize import sent_tokenize\n",
        "from flashtext import KeywordProcessor"
      ]
    },
    {
      "cell_type": "markdown",
      "metadata": {
        "id": "IinENcd1-KxY"
      },
      "source": [
        "# Text Preprocessing"
      ]
    },
    {
      "cell_type": "code",
      "execution_count": 8,
      "metadata": {
        "id": "B85c_5Kw-OWH"
      },
      "outputs": [],
      "source": [
        "def tokenize_sentences(text):\n",
        "    sentences = sent_tokenize(text)\n",
        "    sentences = [sentence.strip() for sentence in sentences if len(sentence) > 20]\n",
        "    return sentences"
      ]
    },
    {
      "cell_type": "code",
      "execution_count": 127,
      "metadata": {
        "colab": {
          "base_uri": "https://localhost:8080/"
        },
        "id": "jjt2fkZ_-WyB",
        "outputId": "84c42dd3-5abe-48d0-be82-4d966f694fa8"
      },
      "outputs": [
        {
          "name": "stdout",
          "output_type": "stream",
          "text": [
            " Process scheduling is a fundamental concept in operating systems that ensures efficient utilization of the CPU by managing the execution of multiple\n",
            "processes. In a multitasking environment, the CPU must allocate its time among various processes, balancing responsiveness, throughput, and fairness.\n",
            "The operating system achieves this through a scheduler, which determines the order in which processes are executed based on predefined algorithms.\n",
            "There are three primary types of process schedulers: Long-term scheduler, Short-term scheduler, and Medium-term scheduler. The long-term scheduler\n",
            "selects processes from the job queue and loads them into the ready queue, controlling the degree of multiprogramming. The short-term scheduler, also\n",
            "known as the CPU scheduler, decides which process gets the CPU next and for how long. Lastly, the medium-term scheduler temporarily removes processes\n",
            "from memory to reduce the load and improve system performance, a process known as swapping.  Scheduling algorithms, such as First-Come, First-Served\n",
            "(FCFS), Shortest Job Next (SJN), Round Robin (RR), and Priority Scheduling, define how processes are prioritized. For instance, Round Robin ensures\n",
            "fairness by allocating a fixed time slice to each process, while Priority Scheduling executes processes based on their assigned priority.  Efficient\n",
            "process scheduling reduces CPU idle time, minimizes waiting time, and ensures that high-priority tasks are completed promptly. It plays a crucial role\n",
            "in maintaining system stability and ensuring optimal performance across diverse computing environments.\n"
          ]
        }
      ],
      "source": [
        "import textwrap\n",
        "\n",
        "text = \"\"\" Process scheduling is a fundamental concept in operating systems that ensures efficient utilization of the CPU by managing the execution of multiple processes. In a multitasking environment, the CPU must allocate its time among various processes, balancing responsiveness, throughput, and fairness. The operating system achieves this through a scheduler, which determines the order in which processes are executed based on predefined algorithms.\n",
        "\n",
        "There are three primary types of process schedulers: Long-term scheduler, Short-term scheduler, and Medium-term scheduler. The long-term scheduler selects processes from the job queue and loads them into the ready queue, controlling the degree of multiprogramming. The short-term scheduler, also known as the CPU scheduler, decides which process gets the CPU next and for how long. Lastly, the medium-term scheduler temporarily removes processes from memory to reduce the load and improve system performance, a process known as swapping.\n",
        "\n",
        "Scheduling algorithms, such as First-Come, First-Served (FCFS), Shortest Job Next (SJN), Round Robin (RR), and Priority Scheduling, define how processes are prioritized. For instance, Round Robin ensures fairness by allocating a fixed time slice to each process, while Priority Scheduling executes processes based on their assigned priority.\n",
        "\n",
        "Efficient process scheduling reduces CPU idle time, minimizes waiting time, and ensures that high-priority tasks are completed promptly. It plays a crucial role in maintaining system stability and ensuring optimal performance across diverse computing environments.\"\"\"\n",
        "\n",
        "wrapper = textwrap.TextWrapper(width=150)\n",
        "word_list = wrapper.wrap(text=text)\n",
        "for element in word_list:\n",
        "  print(element)"
      ]
    },
    {
      "cell_type": "code",
      "execution_count": 128,
      "metadata": {
        "colab": {
          "base_uri": "https://localhost:8080/"
        },
        "id": "FgaUtpwz-fDS",
        "outputId": "39336655-3bc2-485d-f37e-36fb2557ff88"
      },
      "outputs": [
        {
          "name": "stdout",
          "output_type": "stream",
          "text": [
            "keywords:  ['cpu', 'scheduler', 'processes', 'scheduling', 'process', 'priority', 'time', 'round']\n"
          ]
        }
      ],
      "source": [
        "def get_keywords(text):\n",
        "    out=[]\n",
        "    try:\n",
        "        extractor = pke.unsupervised.YAKE()\n",
        "        extractor.load_document(input=text,language='en')\n",
        "        grammar = r\"\"\"\n",
        "                NP:\n",
        "                    {<NOUN|PROPN>+}\n",
        "            \"\"\"\n",
        "        extractor.ngram_selection(n=1)\n",
        "        extractor.grammar_selection(grammar=grammar)\n",
        "        extractor.candidate_selection(n=1)\n",
        "        extractor.candidate_weighting(window=3,\n",
        "                                      use_stems=False)\n",
        "        keyphrases = extractor.get_n_best(n=30)\n",
        "        for val in keyphrases:\n",
        "            out.append(val[0])\n",
        "    except:\n",
        "        out = []\n",
        "        traceback.print_exc()\n",
        "\n",
        "    return out\n",
        "\n",
        "keywords = get_keywords(text)[:8]\n",
        "print (\"keywords: \",keywords)"
      ]
    },
    {
      "cell_type": "code",
      "execution_count": 129,
      "metadata": {
        "colab": {
          "base_uri": "https://localhost:8080/"
        },
        "id": "1di6gScK-6If",
        "outputId": "fb042c2a-5d0b-4386-f9ed-61f0c04296e5"
      },
      "outputs": [
        {
          "name": "stdout",
          "output_type": "stream",
          "text": [
            "['Process scheduling is a fundamental concept in operating systems that ensures efficient utilization of the CPU by managing the execution of multiple processes.', 'In a multitasking environment, the CPU must allocate its time among various processes, balancing responsiveness, throughput, and fairness.', 'The operating system achieves this through a scheduler, which determines the order in which processes are executed based on predefined algorithms.', 'There are three primary types of process schedulers: Long-term scheduler, Short-term scheduler, and Medium-term scheduler.', 'The long-term scheduler selects processes from the job queue and loads them into the ready queue, controlling the degree of multiprogramming.', 'The short-term scheduler, also known as the CPU scheduler, decides which process gets the CPU next and for how long.', 'Lastly, the medium-term scheduler temporarily removes processes from memory to reduce the load and improve system performance, a process known as swapping.', 'Scheduling algorithms, such as First-Come, First-Served (FCFS), Shortest Job Next (SJN), Round Robin (RR), and Priority Scheduling, define how processes are prioritized.', 'For instance, Round Robin ensures fairness by allocating a fixed time slice to each process, while Priority Scheduling executes processes based on their assigned priority.', 'Efficient process scheduling reduces CPU idle time, minimizes waiting time, and ensures that high-priority tasks are completed promptly.', 'It plays a crucial role in maintaining system stability and ensuring optimal performance across diverse computing environments.']\n"
          ]
        }
      ],
      "source": [
        "sentences = tokenize_sentences(text)\n",
        "print (sentences)"
      ]
    },
    {
      "cell_type": "code",
      "execution_count": 130,
      "metadata": {
        "colab": {
          "base_uri": "https://localhost:8080/"
        },
        "id": "lO2HKFWG_Gjv",
        "outputId": "f4a91c20-04ca-474d-8634-bbc807c18c6a"
      },
      "outputs": [
        {
          "name": "stdout",
          "output_type": "stream",
          "text": [
            "{'cpu': ['The short-term scheduler, also known as the CPU scheduler, decides '\n",
            "         'which process gets the CPU next and for how long.',\n",
            "         'The short-term scheduler, also known as the CPU scheduler, decides '\n",
            "         'which process gets the CPU next and for how long.',\n",
            "         'Efficient process scheduling reduces CPU idle time, minimizes '\n",
            "         'waiting time, and ensures that high-priority tasks are completed '\n",
            "         'promptly.',\n",
            "         'In a multitasking environment, the CPU must allocate its time among '\n",
            "         'various processes, balancing responsiveness, throughput, and '\n",
            "         'fairness.',\n",
            "         'Process scheduling is a fundamental concept in operating systems '\n",
            "         'that ensures efficient utilization of the CPU by managing the '\n",
            "         'execution of multiple processes.'],\n",
            " 'priority': ['Efficient process scheduling reduces CPU idle time, minimizes '\n",
            "              'waiting time, and ensures that high-priority tasks are '\n",
            "              'completed promptly.',\n",
            "              'Scheduling algorithms, such as First-Come, First-Served (FCFS), '\n",
            "              'Shortest Job Next (SJN), Round Robin (RR), and Priority '\n",
            "              'Scheduling, define how processes are prioritized.',\n",
            "              'For instance, Round Robin ensures fairness by allocating a '\n",
            "              'fixed time slice to each process, while Priority Scheduling '\n",
            "              'executes processes based on their assigned priority.',\n",
            "              'For instance, Round Robin ensures fairness by allocating a '\n",
            "              'fixed time slice to each process, while Priority Scheduling '\n",
            "              'executes processes based on their assigned priority.'],\n",
            " 'process': ['The short-term scheduler, also known as the CPU scheduler, '\n",
            "             'decides which process gets the CPU next and for how long.',\n",
            "             'There are three primary types of process schedulers: Long-term '\n",
            "             'scheduler, Short-term scheduler, and Medium-term scheduler.',\n",
            "             'Efficient process scheduling reduces CPU idle time, minimizes '\n",
            "             'waiting time, and ensures that high-priority tasks are completed '\n",
            "             'promptly.',\n",
            "             'Lastly, the medium-term scheduler temporarily removes processes '\n",
            "             'from memory to reduce the load and improve system performance, a '\n",
            "             'process known as swapping.',\n",
            "             'Process scheduling is a fundamental concept in operating systems '\n",
            "             'that ensures efficient utilization of the CPU by managing the '\n",
            "             'execution of multiple processes.',\n",
            "             'For instance, Round Robin ensures fairness by allocating a fixed '\n",
            "             'time slice to each process, while Priority Scheduling executes '\n",
            "             'processes based on their assigned priority.'],\n",
            " 'processes': ['In a multitasking environment, the CPU must allocate its time '\n",
            "               'among various processes, balancing responsiveness, throughput, '\n",
            "               'and fairness.',\n",
            "               'The long-term scheduler selects processes from the job queue '\n",
            "               'and loads them into the ready queue, controlling the degree of '\n",
            "               'multiprogramming.',\n",
            "               'The operating system achieves this through a scheduler, which '\n",
            "               'determines the order in which processes are executed based on '\n",
            "               'predefined algorithms.',\n",
            "               'Lastly, the medium-term scheduler temporarily removes '\n",
            "               'processes from memory to reduce the load and improve system '\n",
            "               'performance, a process known as swapping.',\n",
            "               'Process scheduling is a fundamental concept in operating '\n",
            "               'systems that ensures efficient utilization of the CPU by '\n",
            "               'managing the execution of multiple processes.',\n",
            "               'Scheduling algorithms, such as First-Come, First-Served '\n",
            "               '(FCFS), Shortest Job Next (SJN), Round Robin (RR), and '\n",
            "               'Priority Scheduling, define how processes are prioritized.',\n",
            "               'For instance, Round Robin ensures fairness by allocating a '\n",
            "               'fixed time slice to each process, while Priority Scheduling '\n",
            "               'executes processes based on their assigned priority.'],\n",
            " 'round': ['Scheduling algorithms, such as First-Come, First-Served (FCFS), '\n",
            "           'Shortest Job Next (SJN), Round Robin (RR), and Priority '\n",
            "           'Scheduling, define how processes are prioritized.',\n",
            "           'For instance, Round Robin ensures fairness by allocating a fixed '\n",
            "           'time slice to each process, while Priority Scheduling executes '\n",
            "           'processes based on their assigned priority.'],\n",
            " 'scheduler': ['The short-term scheduler, also known as the CPU scheduler, '\n",
            "               'decides which process gets the CPU next and for how long.',\n",
            "               'The short-term scheduler, also known as the CPU scheduler, '\n",
            "               'decides which process gets the CPU next and for how long.',\n",
            "               'There are three primary types of process schedulers: Long-term '\n",
            "               'scheduler, Short-term scheduler, and Medium-term scheduler.',\n",
            "               'There are three primary types of process schedulers: Long-term '\n",
            "               'scheduler, Short-term scheduler, and Medium-term scheduler.',\n",
            "               'There are three primary types of process schedulers: Long-term '\n",
            "               'scheduler, Short-term scheduler, and Medium-term scheduler.',\n",
            "               'The long-term scheduler selects processes from the job queue '\n",
            "               'and loads them into the ready queue, controlling the degree of '\n",
            "               'multiprogramming.',\n",
            "               'The operating system achieves this through a scheduler, which '\n",
            "               'determines the order in which processes are executed based on '\n",
            "               'predefined algorithms.',\n",
            "               'Lastly, the medium-term scheduler temporarily removes '\n",
            "               'processes from memory to reduce the load and improve system '\n",
            "               'performance, a process known as swapping.'],\n",
            " 'scheduling': ['Efficient process scheduling reduces CPU idle time, minimizes '\n",
            "                'waiting time, and ensures that high-priority tasks are '\n",
            "                'completed promptly.',\n",
            "                'Process scheduling is a fundamental concept in operating '\n",
            "                'systems that ensures efficient utilization of the CPU by '\n",
            "                'managing the execution of multiple processes.',\n",
            "                'Scheduling algorithms, such as First-Come, First-Served '\n",
            "                '(FCFS), Shortest Job Next (SJN), Round Robin (RR), and '\n",
            "                'Priority Scheduling, define how processes are prioritized.',\n",
            "                'Scheduling algorithms, such as First-Come, First-Served '\n",
            "                '(FCFS), Shortest Job Next (SJN), Round Robin (RR), and '\n",
            "                'Priority Scheduling, define how processes are prioritized.',\n",
            "                'For instance, Round Robin ensures fairness by allocating a '\n",
            "                'fixed time slice to each process, while Priority Scheduling '\n",
            "                'executes processes based on their assigned priority.'],\n",
            " 'time': ['Efficient process scheduling reduces CPU idle time, minimizes '\n",
            "          'waiting time, and ensures that high-priority tasks are completed '\n",
            "          'promptly.',\n",
            "          'Efficient process scheduling reduces CPU idle time, minimizes '\n",
            "          'waiting time, and ensures that high-priority tasks are completed '\n",
            "          'promptly.',\n",
            "          'In a multitasking environment, the CPU must allocate its time among '\n",
            "          'various processes, balancing responsiveness, throughput, and '\n",
            "          'fairness.',\n",
            "          'For instance, Round Robin ensures fairness by allocating a fixed '\n",
            "          'time slice to each process, while Priority Scheduling executes '\n",
            "          'processes based on their assigned priority.']}\n"
          ]
        }
      ],
      "source": [
        "from pprint import pprint\n",
        "def get_sentences_for_keyword(keywords, sentences):\n",
        "    keyword_processor = KeywordProcessor()\n",
        "    keyword_sentences = {}\n",
        "    for word in keywords:\n",
        "        keyword_sentences[word] = []\n",
        "        keyword_processor.add_keyword(word)\n",
        "    for sentence in sentences:\n",
        "        keywords_found = keyword_processor.extract_keywords(sentence)\n",
        "        for key in keywords_found:\n",
        "            keyword_sentences[key].append(sentence)\n",
        "\n",
        "    for key in keyword_sentences.keys():\n",
        "        values = keyword_sentences[key]\n",
        "        values = sorted(values, key=len, reverse=False)\n",
        "        keyword_sentences[key] = values\n",
        "    return keyword_sentences\n",
        "\n",
        "keyword_sentence_mapping = get_sentences_for_keyword(keywords, sentences)\n",
        "pprint (keyword_sentence_mapping)"
      ]
    },
    {
      "cell_type": "markdown",
      "metadata": {
        "id": "Lc8zwDiAGz2b"
      },
      "source": [
        "# BERT WSD Model"
      ]
    },
    {
      "cell_type": "code",
      "execution_count": 15,
      "metadata": {
        "id": "KOfFHUGKHBh8"
      },
      "outputs": [],
      "source": [
        "!pip install --quiet transformers"
      ]
    },
    {
      "cell_type": "code",
      "execution_count": 131,
      "metadata": {
        "colab": {
          "base_uri": "https://localhost:8080/"
        },
        "id": "l0qWT-u2_PVo",
        "outputId": "630c7a1f-c9e5-45b1-9dca-daf2e3d80671"
      },
      "outputs": [
        {
          "data": {
            "text/plain": [
              "BertWSD(\n",
              "  (bert): BertModel(\n",
              "    (embeddings): BertEmbeddings(\n",
              "      (word_embeddings): Embedding(30524, 768, padding_idx=0)\n",
              "      (position_embeddings): Embedding(512, 768)\n",
              "      (token_type_embeddings): Embedding(2, 768)\n",
              "      (LayerNorm): LayerNorm((768,), eps=1e-12, elementwise_affine=True)\n",
              "      (dropout): Dropout(p=0.1, inplace=False)\n",
              "    )\n",
              "    (encoder): BertEncoder(\n",
              "      (layer): ModuleList(\n",
              "        (0-11): 12 x BertLayer(\n",
              "          (attention): BertAttention(\n",
              "            (self): BertSdpaSelfAttention(\n",
              "              (query): Linear(in_features=768, out_features=768, bias=True)\n",
              "              (key): Linear(in_features=768, out_features=768, bias=True)\n",
              "              (value): Linear(in_features=768, out_features=768, bias=True)\n",
              "              (dropout): Dropout(p=0.1, inplace=False)\n",
              "            )\n",
              "            (output): BertSelfOutput(\n",
              "              (dense): Linear(in_features=768, out_features=768, bias=True)\n",
              "              (LayerNorm): LayerNorm((768,), eps=1e-12, elementwise_affine=True)\n",
              "              (dropout): Dropout(p=0.1, inplace=False)\n",
              "            )\n",
              "          )\n",
              "          (intermediate): BertIntermediate(\n",
              "            (dense): Linear(in_features=768, out_features=3072, bias=True)\n",
              "            (intermediate_act_fn): GELUActivation()\n",
              "          )\n",
              "          (output): BertOutput(\n",
              "            (dense): Linear(in_features=3072, out_features=768, bias=True)\n",
              "            (LayerNorm): LayerNorm((768,), eps=1e-12, elementwise_affine=True)\n",
              "            (dropout): Dropout(p=0.1, inplace=False)\n",
              "          )\n",
              "        )\n",
              "      )\n",
              "    )\n",
              "    (pooler): BertPooler(\n",
              "      (dense): Linear(in_features=768, out_features=768, bias=True)\n",
              "      (activation): Tanh()\n",
              "    )\n",
              "  )\n",
              "  (dropout): Dropout(p=0.1, inplace=False)\n",
              "  (ranking_linear): Linear(in_features=768, out_features=1, bias=True)\n",
              ")"
            ]
          },
          "execution_count": 131,
          "metadata": {},
          "output_type": "execute_result"
        }
      ],
      "source": [
        "import torch\n",
        "import math\n",
        "from transformers import BertModel, BertConfig, BertPreTrainedModel, BertTokenizer\n",
        "\n",
        "class BertWSD(BertPreTrainedModel):\n",
        "    def __init__(self, config):\n",
        "        super().__init__(config)\n",
        "\n",
        "        self.bert = BertModel(config)\n",
        "        self.dropout = torch.nn.Dropout(config.hidden_dropout_prob)\n",
        "\n",
        "        self.ranking_linear = torch.nn.Linear(config.hidden_size, 1)\n",
        "\n",
        "        self.init_weights()\n",
        "\n",
        "device = torch.device('cuda' if torch.cuda.is_available() else 'cpu')\n",
        "\n",
        "model_dir = \"/content/BERT-WSD\"\n",
        "\n",
        "\n",
        "model = BertWSD.from_pretrained(model_dir)\n",
        "tokenizer = BertTokenizer.from_pretrained(model_dir)\n",
        "tokenizer.added_tokens_encoder['[TGT]'] = 100\n",
        "\n",
        "\n",
        "if '[TGT]' not in tokenizer.additional_special_tokens:\n",
        "    tokenizer.add_special_tokens({'additional_special_tokens': ['[TGT]']})\n",
        "\n",
        "model.resize_token_embeddings(len(tokenizer))\n",
        "model.to(device)\n",
        "model.eval()"
      ]
    },
    {
      "cell_type": "code",
      "execution_count": 158,
      "metadata": {
        "colab": {
          "base_uri": "https://localhost:8080/"
        },
        "id": "kx2VpSo4T_DZ",
        "outputId": "1ba2f005-bfe8-4ed0-f36e-228dcc0f9804"
      },
      "outputs": [
        {
          "name": "stderr",
          "output_type": "stream",
          "text": [
            "[nltk_data] Downloading package wordnet to /root/nltk_data...\n",
            "[nltk_data]   Package wordnet is already up-to-date!\n"
          ]
        }
      ],
      "source": [
        "import csv\n",
        "import os\n",
        "from collections import namedtuple\n",
        "import nltk\n",
        "nltk.download('wordnet')\n",
        "from nltk.corpus import wordnet as wn\n",
        "import torch\n",
        "import re\n",
        "import time\n",
        "import torch\n",
        "from tabulate import tabulate\n",
        "from torch.nn.functional import softmax\n",
        "from tqdm import tqdm\n",
        "from transformers import BertTokenizer\n",
        "\n",
        "\n",
        "GlossSelectionRecord = namedtuple(\"GlossSelectionRecord\", [\"guid\", \"sentence\", \"sense_keys\", \"glosses\", \"targets\"])\n",
        "BertInput = namedtuple(\"BertInput\", [\"input_ids\", \"input_mask\", \"segment_ids\", \"label_id\"])\n",
        "\n",
        "MAX_SEQ_LENGTH = 128\n",
        "\n",
        "def _create_features_from_records(records, max_seq_length, tokenizer, cls_token_at_end=False, pad_on_left=False,\n",
        "                                  cls_token='[CLS]', sep_token='[SEP]', pad_token=0,\n",
        "                                  sequence_a_segment_id=0, sequence_b_segment_id=1,\n",
        "                                  cls_token_segment_id=1, pad_token_segment_id=0,\n",
        "                                  mask_padding_with_zero=True, disable_progress_bar=False):\n",
        "    features = []\n",
        "    for record in tqdm(records, disable=disable_progress_bar):\n",
        "        tokens_a = tokenizer.tokenize(record.sentence)\n",
        "\n",
        "        sequences = [(gloss, 1 if i in record.targets else 0) for i, gloss in enumerate(record.glosses)]\n",
        "\n",
        "        pairs = []\n",
        "        for seq, label in sequences:\n",
        "            tokens_b = tokenizer.tokenize(seq)\n",
        "            _truncate_seq_pair(tokens_a, tokens_b, max_seq_length - 3)\n",
        "            tokens = tokens_a + [sep_token]\n",
        "            segment_ids = [sequence_a_segment_id] * len(tokens)\n",
        "\n",
        "            tokens += tokens_b + [sep_token]\n",
        "            segment_ids += [sequence_b_segment_id] * (len(tokens_b) + 1)\n",
        "\n",
        "            if cls_token_at_end:\n",
        "                tokens = tokens + [cls_token]\n",
        "                segment_ids = segment_ids + [cls_token_segment_id]\n",
        "            else:\n",
        "                tokens = [cls_token] + tokens\n",
        "                segment_ids = [cls_token_segment_id] + segment_ids\n",
        "\n",
        "            input_ids = tokenizer.convert_tokens_to_ids(tokens)\n",
        "            input_mask = [1 if mask_padding_with_zero else 0] * len(input_ids)\n",
        "\n",
        "            padding_length = max_seq_length - len(input_ids)\n",
        "            if pad_on_left:\n",
        "                input_ids = ([pad_token] * padding_length) + input_ids\n",
        "                input_mask = ([0 if mask_padding_with_zero else 1] * padding_length) + input_mask\n",
        "                segment_ids = ([pad_token_segment_id] * padding_length) + segment_ids\n",
        "            else:\n",
        "                input_ids = input_ids + ([pad_token] * padding_length)\n",
        "                input_mask = input_mask + ([0 if mask_padding_with_zero else 1] * padding_length)\n",
        "                segment_ids = segment_ids + ([pad_token_segment_id] * padding_length)\n",
        "\n",
        "            assert len(input_ids) == max_seq_length\n",
        "            assert len(input_mask) == max_seq_length\n",
        "            assert len(segment_ids) == max_seq_length\n",
        "\n",
        "            pairs.append(\n",
        "                BertInput(input_ids=input_ids, input_mask=input_mask, segment_ids=segment_ids, label_id=label)\n",
        "            )\n",
        "\n",
        "        features.append(pairs)\n",
        "\n",
        "    return features\n",
        "\n",
        "\n",
        "def _truncate_seq_pair(tokens_a, tokens_b, max_length):\n",
        "    while True:\n",
        "        total_length = len(tokens_a) + len(tokens_b)\n",
        "        if total_length <= max_length:\n",
        "            break\n",
        "        if len(tokens_a) > len(tokens_b):\n",
        "            tokens_a.pop()\n",
        "        else:\n",
        "            tokens_b.pop()"
      ]
    },
    {
      "cell_type": "code",
      "execution_count": 159,
      "metadata": {
        "colab": {
          "base_uri": "https://localhost:8080/"
        },
        "id": "EhjSoGR-Zqxi",
        "outputId": "d405fb82-b94c-4b90-e5d6-bc75c9ad087b"
      },
      "outputs": [
        {
          "name": "stdout",
          "output_type": "stream",
          "text": [
            "Mark's favourite game is [TGT] Cricket [TGT] .\n",
            "Word:  Cricket\n",
            "{Synset('cricket.n.01'): 'leaping insect; male makes chirping noises by '\n",
            "                         'rubbing the forewings together',\n",
            " Synset('cricket.n.02'): 'a game played with a ball and bat by two teams of 11 '\n",
            "                         'players; teams take turns trying to score runs',\n",
            " Synset('cricket.v.01'): 'play cricket'}\n",
            "[Synset('cricket.n.02'), Synset('cricket.n.01'), Synset('cricket.v.01')]\n",
            "['a game played with a ball and bat by two teams of 11 players; teams take turns trying to score runs', 'leaping insect; male makes chirping noises by rubbing the forewings together', 'play cricket']\n"
          ]
        },
        {
          "name": "stderr",
          "output_type": "stream",
          "text": [
            "[nltk_data] Downloading package omw-1.4 to /root/nltk_data...\n",
            "[nltk_data]   Package omw-1.4 is already up-to-date!\n"
          ]
        }
      ],
      "source": [
        "from pprint import pprint\n",
        "nltk.download('omw-1.4')\n",
        "sentence = \"Mark's favourite game is **Cricket**.\"\n",
        "\n",
        "sentence_for_bert = sentence.replace(\"**\",\" [TGT] \")\n",
        "sentence_for_bert = \" \".join(sentence_for_bert.split())\n",
        "\n",
        "print (sentence_for_bert)\n",
        "\n",
        "re_result = re.search(r\"\\[TGT\\](.*)\\[TGT\\]\", sentence_for_bert)\n",
        "if re_result is None:\n",
        "    print(\"\\nIncorrect input format. Please try again.\")\n",
        "\n",
        "ambiguous_word = re_result.group(1).strip()\n",
        "\n",
        "print (\"Word: \",ambiguous_word)\n",
        "\n",
        "\n",
        "results = dict()\n",
        "\n",
        "# wn_pos = wn.NOUN\n",
        "# for i, synset in enumerate(set(wn.synsets(ambiguous_word, pos=wn_pos))):\n",
        "for i, synset in enumerate(set(wn.synsets(ambiguous_word))):\n",
        "    results[synset] =  synset.definition()\n",
        "\n",
        "pprint (results)\n",
        "\n",
        "sense_keys=[]\n",
        "definitions=[]\n",
        "for sense_key, definition in results.items():\n",
        "    sense_keys.append(sense_key)\n",
        "    definitions.append(definition)\n",
        "\n",
        "\n",
        "print (sense_keys)\n",
        "print (definitions)\n",
        "\n",
        "\n",
        "record = GlossSelectionRecord(\"test\", sentence_for_bert, sense_keys, definitions, [-1])"
      ]
    },
    {
      "cell_type": "code",
      "execution_count": 160,
      "metadata": {
        "colab": {
          "base_uri": "https://localhost:8080/"
        },
        "id": "pO13KHezZxEs",
        "outputId": "1ca8491f-0d5a-4b56-bcff-1beefa95da41"
      },
      "outputs": [
        {
          "data": {
            "text/plain": [
              "30524"
            ]
          },
          "execution_count": 160,
          "metadata": {},
          "output_type": "execute_result"
        }
      ],
      "source": [
        "model.config.vocab_size"
      ]
    },
    {
      "cell_type": "code",
      "execution_count": 161,
      "metadata": {
        "colab": {
          "base_uri": "https://localhost:8080/"
        },
        "id": "KU85dgUqZ1ce",
        "outputId": "b93ff6c4-7369-4283-8149-033772fdd2f4"
      },
      "outputs": [
        {
          "name": "stdout",
          "output_type": "stream",
          "text": [
            "3\n",
            "['[CLS]', 'mark', \"'\", 's', 'favourite', 'game', 'is', '[TGT]', 'cricket', '[TGT]', '.', '[SEP]', 'a', 'game', 'played', 'with', 'a', 'ball', 'and', 'bat', 'by', 'two', 'teams', 'of', '11', 'players', ';', 'teams', 'take', 'turns', 'trying', 'to', 'score', 'runs', '[SEP]', '[PAD]', '[PAD]', '[PAD]', '[PAD]', '[PAD]', '[PAD]', '[PAD]', '[PAD]', '[PAD]', '[PAD]', '[PAD]', '[PAD]', '[PAD]', '[PAD]', '[PAD]', '[PAD]', '[PAD]', '[PAD]', '[PAD]', '[PAD]', '[PAD]', '[PAD]', '[PAD]', '[PAD]', '[PAD]', '[PAD]', '[PAD]', '[PAD]', '[PAD]', '[PAD]', '[PAD]', '[PAD]', '[PAD]', '[PAD]', '[PAD]', '[PAD]', '[PAD]', '[PAD]', '[PAD]', '[PAD]', '[PAD]', '[PAD]', '[PAD]', '[PAD]', '[PAD]', '[PAD]', '[PAD]', '[PAD]', '[PAD]', '[PAD]', '[PAD]', '[PAD]', '[PAD]', '[PAD]', '[PAD]', '[PAD]', '[PAD]', '[PAD]', '[PAD]', '[PAD]', '[PAD]', '[PAD]', '[PAD]', '[PAD]', '[PAD]', '[PAD]', '[PAD]', '[PAD]', '[PAD]', '[PAD]', '[PAD]', '[PAD]', '[PAD]', '[PAD]', '[PAD]', '[PAD]', '[PAD]', '[PAD]', '[PAD]', '[PAD]', '[PAD]', '[PAD]', '[PAD]', '[PAD]', '[PAD]', '[PAD]', '[PAD]', '[PAD]', '[PAD]', '[PAD]', '[PAD]', '[PAD]', '[PAD]']\n",
            "['[CLS]', 'mark', \"'\", 's', 'favourite', 'game', 'is', '[TGT]', 'cricket', '[TGT]', '.', '[SEP]', 'leaping', 'insect', ';', 'male', 'makes', 'chi', '##rp', '##ing', 'noises', 'by', 'rubbing', 'the', 'forewings', 'together', '[SEP]', '[PAD]', '[PAD]', '[PAD]', '[PAD]', '[PAD]', '[PAD]', '[PAD]', '[PAD]', '[PAD]', '[PAD]', '[PAD]', '[PAD]', '[PAD]', '[PAD]', '[PAD]', '[PAD]', '[PAD]', '[PAD]', '[PAD]', '[PAD]', '[PAD]', '[PAD]', '[PAD]', '[PAD]', '[PAD]', '[PAD]', '[PAD]', '[PAD]', '[PAD]', '[PAD]', '[PAD]', '[PAD]', '[PAD]', '[PAD]', '[PAD]', '[PAD]', '[PAD]', '[PAD]', '[PAD]', '[PAD]', '[PAD]', '[PAD]', '[PAD]', '[PAD]', '[PAD]', '[PAD]', '[PAD]', '[PAD]', '[PAD]', '[PAD]', '[PAD]', '[PAD]', '[PAD]', '[PAD]', '[PAD]', '[PAD]', '[PAD]', '[PAD]', '[PAD]', '[PAD]', '[PAD]', '[PAD]', '[PAD]', '[PAD]', '[PAD]', '[PAD]', '[PAD]', '[PAD]', '[PAD]', '[PAD]', '[PAD]', '[PAD]', '[PAD]', '[PAD]', '[PAD]', '[PAD]', '[PAD]', '[PAD]', '[PAD]', '[PAD]', '[PAD]', '[PAD]', '[PAD]', '[PAD]', '[PAD]', '[PAD]', '[PAD]', '[PAD]', '[PAD]', '[PAD]', '[PAD]', '[PAD]', '[PAD]', '[PAD]', '[PAD]', '[PAD]', '[PAD]', '[PAD]', '[PAD]', '[PAD]', '[PAD]']\n",
            "['[CLS]', 'mark', \"'\", 's', 'favourite', 'game', 'is', '[TGT]', 'cricket', '[TGT]', '.', '[SEP]', 'play', 'cricket', '[SEP]', '[PAD]', '[PAD]', '[PAD]', '[PAD]', '[PAD]', '[PAD]', '[PAD]', '[PAD]', '[PAD]', '[PAD]', '[PAD]', '[PAD]', '[PAD]', '[PAD]', '[PAD]', '[PAD]', '[PAD]', '[PAD]', '[PAD]', '[PAD]', '[PAD]', '[PAD]', '[PAD]', '[PAD]', '[PAD]', '[PAD]', '[PAD]', '[PAD]', '[PAD]', '[PAD]', '[PAD]', '[PAD]', '[PAD]', '[PAD]', '[PAD]', '[PAD]', '[PAD]', '[PAD]', '[PAD]', '[PAD]', '[PAD]', '[PAD]', '[PAD]', '[PAD]', '[PAD]', '[PAD]', '[PAD]', '[PAD]', '[PAD]', '[PAD]', '[PAD]', '[PAD]', '[PAD]', '[PAD]', '[PAD]', '[PAD]', '[PAD]', '[PAD]', '[PAD]', '[PAD]', '[PAD]', '[PAD]', '[PAD]', '[PAD]', '[PAD]', '[PAD]', '[PAD]', '[PAD]', '[PAD]', '[PAD]', '[PAD]', '[PAD]', '[PAD]', '[PAD]', '[PAD]', '[PAD]', '[PAD]', '[PAD]', '[PAD]', '[PAD]', '[PAD]', '[PAD]', '[PAD]', '[PAD]', '[PAD]', '[PAD]', '[PAD]', '[PAD]', '[PAD]', '[PAD]', '[PAD]', '[PAD]', '[PAD]', '[PAD]', '[PAD]', '[PAD]', '[PAD]', '[PAD]', '[PAD]', '[PAD]', '[PAD]', '[PAD]', '[PAD]', '[PAD]', '[PAD]', '[PAD]', '[PAD]', '[PAD]', '[PAD]', '[PAD]', '[PAD]', '[PAD]', '[PAD]']\n"
          ]
        }
      ],
      "source": [
        "features = _create_features_from_records([record], MAX_SEQ_LENGTH, tokenizer,\n",
        "                                          cls_token=tokenizer.cls_token,\n",
        "                                          sep_token=tokenizer.sep_token,\n",
        "                                          cls_token_segment_id=1,\n",
        "                                          pad_token_segment_id=0,\n",
        "                                          disable_progress_bar=True)[0]\n",
        "\n",
        "print (len(features))\n",
        "\n",
        "for ftr in features:\n",
        "  print (tokenizer.convert_ids_to_tokens(ftr.input_ids))"
      ]
    },
    {
      "cell_type": "code",
      "execution_count": 162,
      "metadata": {
        "colab": {
          "base_uri": "https://localhost:8080/"
        },
        "id": "z7AD3HyjsHxw",
        "outputId": "34978b2f-7c04-41a8-b48b-5b1b162b4437"
      },
      "outputs": [
        {
          "name": "stdout",
          "output_type": "stream",
          "text": [
            "Vocabulary size: 30524\n",
            "Sample input_ids: [101, 2928, 1005, 1055, 8837, 2208, 2003, 30523, 4533, 30523, 1012, 102, 1037, 2208, 2209, 2007, 1037, 3608, 1998, 7151, 2011, 2048, 2780, 1997, 2340, 2867, 1025, 2780, 2202, 4332, 2667, 2000, 3556, 3216, 102, 0, 0, 0, 0, 0, 0, 0, 0, 0, 0, 0, 0, 0, 0, 0, 0, 0, 0, 0, 0, 0, 0, 0, 0, 0, 0, 0, 0, 0, 0, 0, 0, 0, 0, 0, 0, 0, 0, 0, 0, 0, 0, 0, 0, 0, 0, 0, 0, 0, 0, 0, 0, 0, 0, 0, 0, 0, 0, 0, 0, 0, 0, 0, 0, 0, 0, 0, 0, 0, 0, 0, 0, 0, 0, 0, 0, 0, 0, 0, 0, 0, 0, 0, 0, 0, 0, 0, 0, 0, 0, 0, 0, 0]\n"
          ]
        }
      ],
      "source": [
        "print(f\"Vocabulary size: {len(tokenizer)}\")\n",
        "print(\"Sample input_ids:\", features[0].input_ids)\n",
        "assert max(features[0].input_ids) < len(tokenizer), \"Input IDs exceed tokenizer vocabulary size!\"\n"
      ]
    },
    {
      "cell_type": "code",
      "execution_count": 163,
      "metadata": {
        "colab": {
          "base_uri": "https://localhost:8080/"
        },
        "id": "94yDnXoSZ3mF",
        "outputId": "79e17fa1-4884-40b7-f159-49a4cf631a97"
      },
      "outputs": [
        {
          "name": "stdout",
          "output_type": "stream",
          "text": [
            "\n",
            "\n",
            "(Synset('cricket.v.01'), 'play cricket', tensor(0.5838, dtype=torch.float64))\n",
            "(Synset('cricket.n.02'), 'a game played with a ball and bat by two teams of 11 players; teams take turns trying to score runs', tensor(0.4162, dtype=torch.float64))\n",
            "(Synset('cricket.n.01'), 'leaping insect; male makes chirping noises by rubbing the forewings together', tensor(1.9887e-05, dtype=torch.float64))\n",
            "\n",
            "Most appropriate sense:  Synset('cricket.v.01')\n",
            "Most appropriate meaning:  play cricket\n"
          ]
        }
      ],
      "source": [
        "with torch.no_grad():\n",
        "      logits = torch.zeros(len(definitions), dtype=torch.double).to(device)\n",
        "      for i, bert_input in list(enumerate(features)):\n",
        "          logits[i] = model.ranking_linear(\n",
        "              model.bert(\n",
        "                  input_ids=torch.tensor(bert_input.input_ids, dtype=torch.long).unsqueeze(0).to(device),\n",
        "                  attention_mask=torch.tensor(bert_input.input_mask, dtype=torch.long).unsqueeze(0).to(device),\n",
        "                  token_type_ids=torch.tensor(bert_input.segment_ids, dtype=torch.long).unsqueeze(0).to(device)\n",
        "              )[1]\n",
        "          )\n",
        "      scores = softmax(logits, dim=0)\n",
        "\n",
        "      preds = (sorted(zip(sense_keys, definitions, scores), key=lambda x: x[-1], reverse=True))\n",
        "\n",
        "print (\"\\n\")\n",
        "for pred in preds:\n",
        "  print (pred)\n",
        "sense = preds[0][0]\n",
        "meaning = preds[0][1]\n",
        "\n",
        "print (\"\\nMost appropriate sense: \",sense)\n",
        "print (\"Most appropriate meaning: \",meaning)"
      ]
    },
    {
      "cell_type": "code",
      "execution_count": 164,
      "metadata": {
        "id": "ag0wijUXaQ8H"
      },
      "outputs": [],
      "source": [
        "def get_sense(sent):\n",
        "  re_result = re.search(r\"\\[TGT\\](.*)\\[TGT\\]\", sent)\n",
        "  if re_result is None:\n",
        "      print(\"\\nIncorrect input format. Please try again.\")\n",
        "\n",
        "  ambiguous_word = re_result.group(1).strip()\n",
        "  results = dict()\n",
        "\n",
        "  for i, synset in enumerate(set(wn.synsets(ambiguous_word))):\n",
        "      results[synset] =  synset.definition()\n",
        "\n",
        "  if len(results) ==0:\n",
        "    return None\n",
        "\n",
        "  sense_keys=[]\n",
        "  definitions=[]\n",
        "  for sense_key, definition in results.items():\n",
        "      sense_keys.append(sense_key)\n",
        "      definitions.append(definition)\n",
        "\n",
        "  record = GlossSelectionRecord(\"test\", sent, sense_keys, definitions, [-1])\n",
        "\n",
        "  features = _create_features_from_records([record], MAX_SEQ_LENGTH, tokenizer,\n",
        "                                            cls_token=tokenizer.cls_token,\n",
        "                                            sep_token=tokenizer.sep_token,\n",
        "                                            cls_token_segment_id=1,\n",
        "                                            pad_token_segment_id=0,\n",
        "                                            disable_progress_bar=True)[0]\n",
        "\n",
        "  with torch.no_grad():\n",
        "      logits = torch.zeros(len(definitions), dtype=torch.double).to(device)\n",
        "      for i, bert_input in list(enumerate(features)):\n",
        "          logits[i] = model.ranking_linear(\n",
        "              model.bert(\n",
        "                  input_ids=torch.tensor(bert_input.input_ids, dtype=torch.long).unsqueeze(0).to(device),\n",
        "                  attention_mask=torch.tensor(bert_input.input_mask, dtype=torch.long).unsqueeze(0).to(device),\n",
        "                  token_type_ids=torch.tensor(bert_input.segment_ids, dtype=torch.long).unsqueeze(0).to(device)\n",
        "              )[1]\n",
        "          )\n",
        "      scores = softmax(logits, dim=0)\n",
        "\n",
        "      preds = (sorted(zip(sense_keys, definitions, scores), key=lambda x: x[-1], reverse=True))\n",
        "\n",
        "  sense = preds[0][0]\n",
        "  meaning = preds[0][1]\n",
        "  return sense\n"
      ]
    },
    {
      "cell_type": "code",
      "execution_count": 165,
      "metadata": {
        "colab": {
          "base_uri": "https://localhost:8080/"
        },
        "id": "2pw5rz4rdLj5",
        "outputId": "4f6af13f-877d-4081-c93c-2001d19b76b6"
      },
      "outputs": [
        {
          "name": "stdout",
          "output_type": "stream",
          "text": [
            "\n",
            "\n",
            "\n",
            "Original word:  cpu\n",
            "Synset('central_processing_unit.n.01')     (computer science) the part of a computer (a microprocessor chip) that does most of the data processing\n",
            "modified sentence  The short-term scheduler, also known as the [TGT] cpu [TGT] scheduler, decides which process gets the CPU next and for how long.\n",
            "modified sentence  The short-term scheduler, also known as the [TGT] cpu [TGT] scheduler, decides which process gets the CPU next and for how long.\n",
            "modified sentence  Efficient process scheduling reduces [TGT] cpu [TGT] idle time, minimizes waiting time, and ensures that high-priority tasks are completed promptly.\n",
            "Best sense:  Synset('central_processing_unit.n.01')\n",
            "(computer science) the part of a computer (a microprocessor chip) that does most of the data processing\n",
            "\n",
            "\n",
            "\n",
            "Original word:  scheduler\n",
            "Synset('scheduler.n.01')     computer hardware that arranges jobs to be done by the computer in an appropriate order\n",
            "modified sentence  The short-term [TGT] scheduler [TGT] , also known as the CPU scheduler, decides which process gets the CPU next and for how long.\n",
            "modified sentence  The short-term [TGT] scheduler [TGT] , also known as the CPU scheduler, decides which process gets the CPU next and for how long.\n",
            "modified sentence  There are three primary types of process [TGT] scheduler [TGT] s: Long-term scheduler, Short-term scheduler, and Medium-term scheduler.\n",
            "Best sense:  Synset('scheduler.n.01')\n",
            "computer hardware that arranges jobs to be done by the computer in an appropriate order\n",
            "\n",
            "\n",
            "\n",
            "Original word:  processes\n",
            "Synset('march.v.01')     march in a procession\n",
            "Synset('procedure.n.01')     a particular course of action intended to achieve a result\n",
            "Synset('process.v.03')     perform mathematical and logical operations on (data) according to programmed instructions in order to obtain the required information\n",
            "Synset('process.n.06')     a sustained phenomenon or one marked by gradual changes through a series of states\n",
            "Synset('process.v.02')     deal with in a routine way\n",
            "Synset('serve.v.11')     deliver a warrant or summons to someone\n",
            "Synset('action.v.01')     institute legal proceedings against; file a suit against\n",
            "Synset('process.n.02')     (psychology) the performance of some composite cognitive activity; an operation that affects mental contents\n",
            "Synset('process.n.04')     a mental process that you are not directly aware of\n",
            "Synset('process.n.05')     a natural prolongation or projection from a part of an organism either animal or plant\n",
            "Synset('work.v.05')     shape, form, or improve a material\n",
            "Synset('process.v.01')     subject to a process or treatment, with the aim of readying for some purpose, improving, or remedying a condition\n",
            "Synset('summons.n.03')     a writ issued by authority of law; usually compels the defendant's attendance in a civil suit; failure to appear results in a default judgment against the defendant\n",
            "modified sentence  In a multitasking environment, the CPU must allocate its time among various [TGT] processes [TGT] , balancing responsiveness, throughput, and fairness.\n",
            "modified sentence  The long-term scheduler selects [TGT] processes [TGT] from the job queue and loads them into the ready queue, controlling the degree of multiprogramming.\n",
            "modified sentence  The operating system achieves this through a scheduler, which determines the order in which [TGT] processes [TGT] are executed based on predefined algorithms.\n",
            "Best sense:  Synset('process.v.03')\n",
            "perform mathematical and logical operations on (data) according to programmed instructions in order to obtain the required information\n",
            "\n",
            "\n",
            "\n",
            "Original word:  scheduling\n",
            "Synset('scheduling.n.01')     setting an order and time for planned events\n",
            "Synset('schedule.v.02')     make a schedule; plan the time and place for events\n",
            "Synset('schedule.v.01')     plan for an activity or event\n",
            "modified sentence  Efficient process [TGT] scheduling [TGT] reduces CPU idle time, minimizes waiting time, and ensures that high-priority tasks are completed promptly.\n",
            "modified sentence  Process [TGT] scheduling [TGT] is a fundamental concept in operating systems that ensures efficient utilization of the CPU by managing the execution of multiple processes.\n",
            "modified sentence  [TGT] scheduling [TGT] algorithms, such as First-Come, First-Served (FCFS), Shortest Job Next (SJN), Round Robin (RR), and Priority Scheduling, define how processes are prioritized.\n",
            "Best sense:  Synset('schedule.v.01')\n",
            "plan for an activity or event\n",
            "\n",
            "\n",
            "\n",
            "Original word:  process\n",
            "Synset('march.v.01')     march in a procession\n",
            "Synset('procedure.n.01')     a particular course of action intended to achieve a result\n",
            "Synset('process.v.03')     perform mathematical and logical operations on (data) according to programmed instructions in order to obtain the required information\n",
            "Synset('process.n.06')     a sustained phenomenon or one marked by gradual changes through a series of states\n",
            "Synset('process.v.02')     deal with in a routine way\n",
            "Synset('serve.v.11')     deliver a warrant or summons to someone\n",
            "Synset('action.v.01')     institute legal proceedings against; file a suit against\n",
            "Synset('process.n.02')     (psychology) the performance of some composite cognitive activity; an operation that affects mental contents\n",
            "Synset('process.n.04')     a mental process that you are not directly aware of\n",
            "Synset('process.n.05')     a natural prolongation or projection from a part of an organism either animal or plant\n",
            "Synset('work.v.05')     shape, form, or improve a material\n",
            "Synset('process.v.01')     subject to a process or treatment, with the aim of readying for some purpose, improving, or remedying a condition\n",
            "Synset('summons.n.03')     a writ issued by authority of law; usually compels the defendant's attendance in a civil suit; failure to appear results in a default judgment against the defendant\n",
            "modified sentence  The short-term scheduler, also known as the CPU scheduler, decides which [TGT] process [TGT] gets the CPU next and for how long.\n",
            "modified sentence  There are three primary types of [TGT] process [TGT] schedulers: Long-term scheduler, Short-term scheduler, and Medium-term scheduler.\n",
            "modified sentence  Efficient [TGT] process [TGT] scheduling reduces CPU idle time, minimizes waiting time, and ensures that high-priority tasks are completed promptly.\n",
            "Best sense:  Synset('process.v.02')\n",
            "deal with in a routine way\n",
            "\n",
            "\n",
            "\n",
            "Original word:  priority\n",
            "Synset('priority.n.02')     preceding in time\n",
            "Synset('precedence.n.01')     status established in order of importance or urgency\n",
            "modified sentence  Efficient process scheduling reduces CPU idle time, minimizes waiting time, and ensures that high- [TGT] priority [TGT] tasks are completed promptly.\n",
            "modified sentence  Scheduling algorithms, such as First-Come, First-Served (FCFS), Shortest Job Next (SJN), Round Robin (RR), and [TGT] priority [TGT] Scheduling, define how processes are prioritized.\n",
            "modified sentence  For instance, Round Robin ensures fairness by allocating a fixed time slice to each process, while [TGT] priority [TGT] Scheduling executes processes based on their assigned priority.\n",
            "Best sense:  Synset('precedence.n.01')\n",
            "status established in order of importance or urgency\n",
            "\n",
            "\n",
            "\n",
            "Original word:  time\n",
            "Synset('clock.v.01')     measure the time or duration of an event or action or the person who performs an action in a certain period of time\n",
            "Synset('time.n.06')     a person's experience on a particular occasion\n",
            "Synset('time.v.03')     set the speed, duration, or execution of\n",
            "Synset('time.n.04')     a suitable moment\n",
            "Synset('time.v.05')     adjust so that a force is applied and an action occurs at the desired time\n",
            "Synset('time.n.05')     the continuum of experience in which events pass from the future through the present to the past\n",
            "Synset('meter.n.04')     rhythm as given by division into parts of equal duration\n",
            "Synset('time.n.02')     a period of time considered as a resource under your control and sufficient to accomplish something\n",
            "Synset('prison_term.n.01')     the period of time a prisoner is imprisoned\n",
            "Synset('time.n.03')     an indefinite period (usually marked by specific attributes or activities)\n",
            "Synset('clock_time.n.01')     a reading of a point in time as given by a clock\n",
            "Synset('fourth_dimension.n.01')     the fourth coordinate that is required (along with three spatial dimensions) to specify a physical event\n",
            "Synset('time.n.01')     an instance or single occasion for some event\n",
            "Synset('time.v.04')     regulate or set the time of\n",
            "Synset('time.v.02')     assign a time for an activity or event\n",
            "modified sentence  Efficient process scheduling reduces CPU idle [TGT] time [TGT] , minimizes waiting time, and ensures that high-priority tasks are completed promptly.\n",
            "modified sentence  Efficient process scheduling reduces CPU idle [TGT] time [TGT] , minimizes waiting time, and ensures that high-priority tasks are completed promptly.\n",
            "modified sentence  In a multitasking environment, the CPU must allocate its [TGT] time [TGT] among various processes, balancing responsiveness, throughput, and fairness.\n",
            "Best sense:  Synset('time.n.02')\n",
            "a period of time considered as a resource under your control and sufficient to accomplish something\n",
            "\n",
            "\n",
            "\n",
            "Original word:  round\n",
            "Synset('rung.n.01')     a crosspiece between the legs of a chair\n",
            "Synset('round.n.09')     a serving to each of a group (usually alcoholic)\n",
            "Synset('round.n.12')     an outburst of applause\n",
            "Synset('polish.v.03')     bring to a highly developed, finished, or refined state\n",
            "Synset('round.r.01')     from beginning to end; throughout\n",
            "Synset('round.n.08')     the course along which communications spread\n",
            "Synset('round.v.01')     wind around; move along a circular course\n",
            "Synset('cycle.n.01')     an interval during which a recurring sequence of events occurs\n",
            "Synset('turn.n.09')     (sports) a division during which one team is on the offensive\n",
            "Synset('circle.n.08')     any circular or rotating mechanism\n",
            "Synset('round_of_golf.n.01')     the activity of playing 18 holes of golf\n",
            "Synset('round.v.03')     pronounce with rounded lips\n",
            "Synset('round.v.02')     make round\n",
            "Synset('round.n.06')     the usual activities in your day\n",
            "Synset('round.n.01')     a charge of ammunition for a single shot\n",
            "Synset('round.n.11')     a partsong in which voices follow each other; one voice starts and others join in one after another until all are singing different parts of the song at the same time\n",
            "Synset('orotund.s.02')     (of sounds) full and rich\n",
            "Synset('round.v.07')     become round, plump, or shapely\n",
            "Synset('beat.n.01')     a regular route for a sentry or policeman\n",
            "Synset('round.a.01')     having a circular shape\n",
            "Synset('round_off.v.03')     express as a round number\n",
            "Synset('round.n.10')     a cut of beef between the rump and the lower leg\n",
            "Synset('round.s.03')     (mathematics) expressed to the nearest integer, ten, hundred, or thousand\n",
            "Synset('round.n.04')     (often plural) a series of professional calls (usually in a set order)\n",
            "Synset('attack.v.02')     attack in speech or writing\n",
            "modified sentence  Scheduling algorithms, such as First-Come, First-Served (FCFS), Shortest Job Next (SJN), [TGT] round [TGT] Robin (RR), and Priority Scheduling, define how processes are prioritized.\n",
            "modified sentence  For instance, [TGT] round [TGT] Robin ensures fairness by allocating a fixed time slice to each process, while Priority Scheduling executes processes based on their assigned priority.\n",
            "Best sense:  Synset('round.n.06')\n",
            "the usual activities in your day\n"
          ]
        }
      ],
      "source": [
        "import statistics\n",
        "from statistics import mode\n",
        "import re\n",
        "\n",
        "def get_synsets_for_word (word):\n",
        "  return set(wn.synsets(word))\n",
        "\n",
        "keyword_best_sense = {}\n",
        "\n",
        "for keyword in  keyword_sentence_mapping:\n",
        "  print (\"\\n\\n\")\n",
        "  print(\"Original word: \",keyword)\n",
        "  try:\n",
        "    identified_synsets=get_synsets_for_word(keyword)\n",
        "  except:\n",
        "    continue\n",
        "  for synset in identified_synsets:\n",
        "    print (synset,\"   \",synset.definition())\n",
        "  top_3_sentences = keyword_sentence_mapping[keyword][:3]\n",
        "  best_senses=[]\n",
        "  for sent in top_3_sentences:\n",
        "    insensitive_keyword = re.compile(re.escape(keyword), re.IGNORECASE)\n",
        "    modified_sentence = insensitive_keyword.sub(\" [TGT] \"+keyword+\" [TGT] \", sent,count=1)\n",
        "    modified_sentence = \" \".join(modified_sentence.split())\n",
        "    print (\"modified sentence \",modified_sentence)\n",
        "    best_sense = get_sense(modified_sentence)\n",
        "    best_senses.append(best_sense)\n",
        "  best_sense = mode(best_senses)\n",
        "  print (\"Best sense: \",best_sense)\n",
        "  defn = best_sense.definition()\n",
        "  print (defn)\n",
        "  keyword_best_sense [keyword] = defn"
      ]
    },
    {
      "cell_type": "code",
      "execution_count": 166,
      "metadata": {
        "colab": {
          "base_uri": "https://localhost:8080/"
        },
        "id": "U-NdjL6rttvW",
        "outputId": "c60d4163-602f-41de-93ef-adac065fea15"
      },
      "outputs": [
        {
          "name": "stdout",
          "output_type": "stream",
          "text": [
            "{'cpu': '(computer science) the part of a computer (a microprocessor chip) '\n",
            "        'that does most of the data processing',\n",
            " 'priority': 'status established in order of importance or urgency',\n",
            " 'process': 'deal with in a routine way',\n",
            " 'processes': 'perform mathematical and logical operations on (data) according '\n",
            "              'to programmed instructions in order to obtain the required '\n",
            "              'information',\n",
            " 'round': 'the usual activities in your day',\n",
            " 'scheduler': 'computer hardware that arranges jobs to be done by the computer '\n",
            "              'in an appropriate order',\n",
            " 'scheduling': 'plan for an activity or event',\n",
            " 'time': 'a period of time considered as a resource under your control and '\n",
            "         'sufficient to accomplish something'}\n"
          ]
        }
      ],
      "source": [
        "pprint (keyword_best_sense)"
      ]
    },
    {
      "cell_type": "code",
      "execution_count": 167,
      "metadata": {
        "colab": {
          "base_uri": "https://localhost:8080/"
        },
        "id": "lNgUF0uEt2-b",
        "outputId": "9f7d8478-5a5c-4965-b21e-86af30a4ac57"
      },
      "outputs": [
        {
          "name": "stdout",
          "output_type": "stream",
          "text": [
            "['processes', 'cpu', 'scheduling', 'priority', 'round', 'process', 'scheduler', 'time']\n",
            "['status established in order of importance or urgency', '(computer science) the part of a computer (a microprocessor chip) that does most of the data processing', 'plan for an activity or event', 'a period of time considered as a resource under your control and sufficient to accomplish something', 'perform mathematical and logical operations on (data) according to programmed instructions in order to obtain the required information', 'computer hardware that arranges jobs to be done by the computer in an appropriate order', 'deal with in a routine way', 'the usual activities in your day']\n"
          ]
        }
      ],
      "source": [
        "import random\n",
        "from prettytable import PrettyTable\n",
        "x = PrettyTable()\n",
        "all_keywords= list(keyword_best_sense.keys())\n",
        "all_definitions = list(keyword_best_sense.values())\n",
        "random.shuffle(all_keywords)\n",
        "random.shuffle(all_definitions)\n",
        "print (all_keywords)\n",
        "print (all_definitions)"
      ]
    },
    {
      "cell_type": "code",
      "execution_count": 168,
      "metadata": {
        "colab": {
          "base_uri": "https://localhost:8080/",
          "height": 265
        },
        "id": "zvYecTQgt4Bt",
        "outputId": "e02b1be8-31ae-47bc-95fc-c2ef4a61b392"
      },
      "outputs": [
        {
          "data": {
            "text/markdown": [
              "**Match the following words to their correct meanings.**"
            ],
            "text/plain": [
              "<IPython.core.display.Markdown object>"
            ]
          },
          "metadata": {},
          "output_type": "display_data"
        },
        {
          "name": "stdout",
          "output_type": "stream",
          "text": [
            "+------------+----------------------------------------------------------------------------------------------------------------------------------------+\n",
            "|    Word    |                                                               Definition                                                               |\n",
            "+------------+----------------------------------------------------------------------------------------------------------------------------------------+\n",
            "| processes  |                                          status established in order of importance or urgency                                          |\n",
            "|    cpu     |                (computer science) the part of a computer (a microprocessor chip) that does most of the data processing                 |\n",
            "| scheduling |                                                     plan for an activity or event                                                      |\n",
            "|  priority  |                  a period of time considered as a resource under your control and sufficient to accomplish something                   |\n",
            "|   round    | perform mathematical and logical operations on (data) according to programmed instructions in order to obtain the required information |\n",
            "|  process   |                        computer hardware that arranges jobs to be done by the computer in an appropriate order                         |\n",
            "| scheduler  |                                                       deal with in a routine way                                                       |\n",
            "|    time    |                                                    the usual activities in your day                                                    |\n",
            "+------------+----------------------------------------------------------------------------------------------------------------------------------------+\n"
          ]
        }
      ],
      "source": [
        "from IPython.display import Markdown, display\n",
        "def printmd(string):\n",
        "    display(Markdown(string))\n",
        "\n",
        "x.field_names=['Word', \"Definition\"]\n",
        "for word,defn in zip(all_keywords,all_definitions):\n",
        "  x.add_row([word,defn])\n",
        "\n",
        "printmd(\"**Match the following words to their correct meanings.**\")\n",
        "\n",
        "print (x)"
      ]
    }
  ],
  "metadata": {
    "colab": {
      "provenance": []
    },
    "kernelspec": {
      "display_name": "Python 3",
      "name": "python3"
    },
    "language_info": {
      "name": "python"
    }
  },
  "nbformat": 4,
  "nbformat_minor": 0
}
