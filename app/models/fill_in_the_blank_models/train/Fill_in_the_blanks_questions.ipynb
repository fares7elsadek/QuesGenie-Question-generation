{
  "nbformat": 4,
  "nbformat_minor": 0,
  "metadata": {
    "colab": {
      "provenance": []
    },
    "kernelspec": {
      "name": "python3",
      "display_name": "Python 3"
    },
    "language_info": {
      "name": "python"
    }
  },
  "cells": [
    {
      "cell_type": "markdown",
      "source": [
        "# Dependencies\n"
      ],
      "metadata": {
        "id": "nQFOS9NToCE1"
      }
    },
    {
      "cell_type": "code",
      "execution_count": 2,
      "metadata": {
        "colab": {
          "base_uri": "https://localhost:8080/"
        },
        "id": "a1qoPGlznolt",
        "outputId": "f92b801e-2165-4b09-f631-df41423bee4d"
      },
      "outputs": [
        {
          "output_type": "stream",
          "name": "stdout",
          "text": [
            "  Preparing metadata (setup.py) ... \u001b[?25l\u001b[?25hdone\n"
          ]
        }
      ],
      "source": [
        "!pip install --quiet flashtext\n",
        "!pip install --quiet git+https://github.com/boudinfl/pke.git"
      ]
    },
    {
      "cell_type": "code",
      "source": [
        "import json\n",
        "import requests\n",
        "import string\n",
        "import re\n",
        "import nltk\n",
        "import string\n",
        "import itertools\n",
        "nltk.download('stopwords')\n",
        "nltk.download('wordnet')\n",
        "nltk.download('punkt_tab')\n",
        "import pke\n",
        "from nltk.corpus import stopwords\n",
        "from nltk.corpus import wordnet\n",
        "import traceback\n",
        "from nltk.tokenize import sent_tokenize\n",
        "from flashtext import KeywordProcessor"
      ],
      "metadata": {
        "colab": {
          "base_uri": "https://localhost:8080/"
        },
        "id": "ZQm2h6k_o5XT",
        "outputId": "d85cb34b-a46e-4e91-efa4-2ac4fb2d355f"
      },
      "execution_count": 6,
      "outputs": [
        {
          "output_type": "stream",
          "name": "stderr",
          "text": [
            "[nltk_data] Downloading package stopwords to /root/nltk_data...\n",
            "[nltk_data]   Package stopwords is already up-to-date!\n",
            "[nltk_data] Downloading package wordnet to /root/nltk_data...\n",
            "[nltk_data]   Package wordnet is already up-to-date!\n",
            "[nltk_data] Downloading package punkt_tab to /root/nltk_data...\n",
            "[nltk_data]   Unzipping tokenizers/punkt_tab.zip.\n"
          ]
        }
      ]
    },
    {
      "cell_type": "markdown",
      "source": [
        "# Text preprocessing"
      ],
      "metadata": {
        "id": "5qQJDtRRo1E8"
      }
    },
    {
      "cell_type": "code",
      "source": [
        "import textwrap\n",
        "text = \"\"\"HTML (HyperText Markup Language) serves as the structural backbone of web content, defining elements through tags such as <div>, <p>, and <header>. HTML5, the latest iteration, introduced semantic elements like <article> and <aside>, APIs for offline storage, and multimedia support through <audio> and <video> tags. CSS (Cascading Style Sheets) manages the presentation layer, allowing precise control over typography, spacing, and layouts. CSS3 extended its capabilities with pseudo-classes, media queries for responsive design, and advanced features like Flexbox, Grid, and keyframe-based animations. JavaScript (JS), a versatile programming language, enables interactivity by manipulating the DOM (Document Object Model), handling events, and incorporating asynchronous operations via promises and async/await. Bootstrap, a powerful CSS and JS framework, streamlines web development with a mobile-first grid system, customizable components like modals and carousels, and extensive utility classes, fostering rapid, responsive design.”\"\"\"\n",
        "wrapper = textwrap.TextWrapper(width=150)\n",
        "word_list = wrapper.wrap(text=text)\n",
        "for element in word_list:\n",
        "  print(element)\n"
      ],
      "metadata": {
        "colab": {
          "base_uri": "https://localhost:8080/"
        },
        "id": "aigHbUaJoxE6",
        "outputId": "05146771-7d62-442c-ffa2-aef7dc8a0ee9"
      },
      "execution_count": 18,
      "outputs": [
        {
          "output_type": "stream",
          "name": "stdout",
          "text": [
            "HTML (HyperText Markup Language) serves as the structural backbone of web content, defining elements through tags such as <div>, <p>, and <header>.\n",
            "HTML5, the latest iteration, introduced semantic elements like <article> and <aside>, APIs for offline storage, and multimedia support through <audio>\n",
            "and <video> tags. CSS (Cascading Style Sheets) manages the presentation layer, allowing precise control over typography, spacing, and layouts. CSS3\n",
            "extended its capabilities with pseudo-classes, media queries for responsive design, and advanced features like Flexbox, Grid, and keyframe-based\n",
            "animations. JavaScript (JS), a versatile programming language, enables interactivity by manipulating the DOM (Document Object Model), handling events,\n",
            "and incorporating asynchronous operations via promises and async/await. Bootstrap, a powerful CSS and JS framework, streamlines web development with a\n",
            "mobile-first grid system, customizable components like modals and carousels, and extensive utility classes, fostering rapid, responsive design.”\n"
          ]
        }
      ]
    },
    {
      "cell_type": "code",
      "source": [
        "def tokenize_sentence(text):\n",
        "  sentences = sent_tokenize(text)\n",
        "  sentences = [sentence.strip() for sentence in sentences if len(sentence) > 20]\n",
        "  return sentences\n",
        "\n",
        "sentences = tokenize_sentence(text)\n",
        "for element in sentences:\n",
        "  print(element)"
      ],
      "metadata": {
        "colab": {
          "base_uri": "https://localhost:8080/"
        },
        "id": "eEfxEKLYpuOS",
        "outputId": "d0a253dd-7851-470f-8a01-ff06b6e4d5c0"
      },
      "execution_count": 19,
      "outputs": [
        {
          "output_type": "stream",
          "name": "stdout",
          "text": [
            "HTML (HyperText Markup Language) serves as the structural backbone of web content, defining elements through tags such as <div>, <p>, and <header>.\n",
            "HTML5, the latest iteration, introduced semantic elements like <article> and <aside>, APIs for offline storage, and multimedia support through <audio> and <video> tags.\n",
            "CSS (Cascading Style Sheets) manages the presentation layer, allowing precise control over typography, spacing, and layouts.\n",
            "CSS3 extended its capabilities with pseudo-classes, media queries for responsive design, and advanced features like Flexbox, Grid, and keyframe-based animations.\n",
            "JavaScript (JS), a versatile programming language, enables interactivity by manipulating the DOM (Document Object Model), handling events, and incorporating asynchronous operations via promises and async/await.\n",
            "Bootstrap, a powerful CSS and JS framework, streamlines web development with a mobile-first grid system, customizable components like modals and carousels, and extensive utility classes, fostering rapid, responsive design.”\n"
          ]
        }
      ]
    },
    {
      "cell_type": "code",
      "source": [
        "def get_noun_adj_verb(text):\n",
        "  output = []\n",
        "  try:\n",
        "    extractor = pke.unsupervised.MultipartiteRank()\n",
        "    extractor.load_document(input=text,language='en')\n",
        "    pos = {'VERB', 'ADJ', 'NOUN'}\n",
        "    stoplist = list(string.punctuation)\n",
        "    stoplist += ['-lrb-', '-rrb-', '-lcb-', '-rcb-', '-lsb-', '-rsb-']\n",
        "    stoplist += stopwords.words('english')\n",
        "    extractor.candidate_selection(pos=pos)\n",
        "    extractor.candidate_weighting(alpha=1.1,\n",
        "                                  threshold=0.75,\n",
        "                                  method='average')\n",
        "    keyphrases = extractor.get_n_best(n=30)\n",
        "    for val in keyphrases:\n",
        "            output.append(val[0])\n",
        "  except:\n",
        "        out = []\n",
        "        traceback.print_exc()\n",
        "  return output\n",
        "\n",
        "noun_verbs_adj = get_noun_adj_verb(text)\n",
        "print (\"keywords: \",noun_verbs_adj)"
      ],
      "metadata": {
        "colab": {
          "base_uri": "https://localhost:8080/"
        },
        "id": "3TRVexLNqn56",
        "outputId": "61f0ec0d-3860-49f6-99b6-932a7a1e6ac9"
      },
      "execution_count": 20,
      "outputs": [
        {
          "output_type": "stream",
          "name": "stdout",
          "text": [
            "keywords:  ['web content', 'defining elements', 'css', 'responsive design', 'structural backbone', 'tags', 'allowing precise control', 'cascading', 'presentation layer', 'typography', 'capabilities', 'video', 'pseudo-classes', 'spacing', 'manages', 'extended', 'media queries', 'layouts', 'offline storage', 'multimedia support', 'audio', 'apis', 'serves', 'promises', 'async', 'enables interactivity', 'incorporating asynchronous operations', 'latest iteration', 'customizable components', 'introduced semantic elements']\n"
          ]
        }
      ]
    },
    {
      "cell_type": "code",
      "source": [
        "from pprint import pprint\n",
        "def get_sentence_for_keyword(keywords,sentences):\n",
        "  keyword_processor = KeywordProcessor()\n",
        "  keyword_sentences = {}\n",
        "  for word in keywords:\n",
        "    keyword_sentences[word] = []\n",
        "    keyword_processor.add_keyword(word)\n",
        "  for sentence in sentences:\n",
        "    keywords_found = keyword_processor.extract_keywords(sentence)\n",
        "    for key in keywords_found:\n",
        "        keyword_sentences[key].append(sentence)\n",
        "  for key in keyword_sentences.keys():\n",
        "    values = keyword_sentences[key]\n",
        "    values = sorted(values, key=len, reverse=True)\n",
        "    keyword_sentences[key] = values\n",
        "  return keyword_sentences\n",
        "\n",
        "mapping = get_sentence_for_keyword(noun_verbs_adj,sentences)\n",
        "pprint(mapping)"
      ],
      "metadata": {
        "colab": {
          "base_uri": "https://localhost:8080/"
        },
        "id": "2RIn4X0JryNE",
        "outputId": "be91fd15-22dd-4329-bcaa-2f6070c60b54"
      },
      "execution_count": 21,
      "outputs": [
        {
          "output_type": "stream",
          "name": "stdout",
          "text": [
            "{'allowing precise control': ['CSS (Cascading Style Sheets) manages the '\n",
            "                              'presentation layer, allowing precise control '\n",
            "                              'over typography, spacing, and layouts.'],\n",
            " 'apis': ['HTML5, the latest iteration, introduced semantic elements like '\n",
            "          '<article> and <aside>, APIs for offline storage, and multimedia '\n",
            "          'support through <audio> and <video> tags.'],\n",
            " 'async': ['JavaScript (JS), a versatile programming language, enables '\n",
            "           'interactivity by manipulating the DOM (Document Object Model), '\n",
            "           'handling events, and incorporating asynchronous operations via '\n",
            "           'promises and async/await.'],\n",
            " 'audio': ['HTML5, the latest iteration, introduced semantic elements like '\n",
            "           '<article> and <aside>, APIs for offline storage, and multimedia '\n",
            "           'support through <audio> and <video> tags.'],\n",
            " 'capabilities': ['CSS3 extended its capabilities with pseudo-classes, media '\n",
            "                  'queries for responsive design, and advanced features like '\n",
            "                  'Flexbox, Grid, and keyframe-based animations.'],\n",
            " 'cascading': ['CSS (Cascading Style Sheets) manages the presentation layer, '\n",
            "               'allowing precise control over typography, spacing, and '\n",
            "               'layouts.'],\n",
            " 'css': ['Bootstrap, a powerful CSS and JS framework, streamlines web '\n",
            "         'development with a mobile-first grid system, customizable components '\n",
            "         'like modals and carousels, and extensive utility classes, fostering '\n",
            "         'rapid, responsive design.”',\n",
            "         'CSS (Cascading Style Sheets) manages the presentation layer, '\n",
            "         'allowing precise control over typography, spacing, and layouts.'],\n",
            " 'customizable components': ['Bootstrap, a powerful CSS and JS framework, '\n",
            "                             'streamlines web development with a mobile-first '\n",
            "                             'grid system, customizable components like modals '\n",
            "                             'and carousels, and extensive utility classes, '\n",
            "                             'fostering rapid, responsive design.”'],\n",
            " 'defining elements': ['HTML (HyperText Markup Language) serves as the '\n",
            "                       'structural backbone of web content, defining elements '\n",
            "                       'through tags such as <div>, <p>, and <header>.'],\n",
            " 'enables interactivity': ['JavaScript (JS), a versatile programming language, '\n",
            "                           'enables interactivity by manipulating the DOM '\n",
            "                           '(Document Object Model), handling events, and '\n",
            "                           'incorporating asynchronous operations via promises '\n",
            "                           'and async/await.'],\n",
            " 'extended': ['CSS3 extended its capabilities with pseudo-classes, media '\n",
            "              'queries for responsive design, and advanced features like '\n",
            "              'Flexbox, Grid, and keyframe-based animations.'],\n",
            " 'incorporating asynchronous operations': ['JavaScript (JS), a versatile '\n",
            "                                           'programming language, enables '\n",
            "                                           'interactivity by manipulating the '\n",
            "                                           'DOM (Document Object Model), '\n",
            "                                           'handling events, and incorporating '\n",
            "                                           'asynchronous operations via '\n",
            "                                           'promises and async/await.'],\n",
            " 'introduced semantic elements': ['HTML5, the latest iteration, introduced '\n",
            "                                  'semantic elements like <article> and '\n",
            "                                  '<aside>, APIs for offline storage, and '\n",
            "                                  'multimedia support through <audio> and '\n",
            "                                  '<video> tags.'],\n",
            " 'latest iteration': ['HTML5, the latest iteration, introduced semantic '\n",
            "                      'elements like <article> and <aside>, APIs for offline '\n",
            "                      'storage, and multimedia support through <audio> and '\n",
            "                      '<video> tags.'],\n",
            " 'layouts': ['CSS (Cascading Style Sheets) manages the presentation layer, '\n",
            "             'allowing precise control over typography, spacing, and layouts.'],\n",
            " 'manages': ['CSS (Cascading Style Sheets) manages the presentation layer, '\n",
            "             'allowing precise control over typography, spacing, and layouts.'],\n",
            " 'media queries': ['CSS3 extended its capabilities with pseudo-classes, media '\n",
            "                   'queries for responsive design, and advanced features like '\n",
            "                   'Flexbox, Grid, and keyframe-based animations.'],\n",
            " 'multimedia support': ['HTML5, the latest iteration, introduced semantic '\n",
            "                        'elements like <article> and <aside>, APIs for offline '\n",
            "                        'storage, and multimedia support through <audio> and '\n",
            "                        '<video> tags.'],\n",
            " 'offline storage': ['HTML5, the latest iteration, introduced semantic '\n",
            "                     'elements like <article> and <aside>, APIs for offline '\n",
            "                     'storage, and multimedia support through <audio> and '\n",
            "                     '<video> tags.'],\n",
            " 'presentation layer': ['CSS (Cascading Style Sheets) manages the presentation '\n",
            "                        'layer, allowing precise control over typography, '\n",
            "                        'spacing, and layouts.'],\n",
            " 'promises': ['JavaScript (JS), a versatile programming language, enables '\n",
            "              'interactivity by manipulating the DOM (Document Object Model), '\n",
            "              'handling events, and incorporating asynchronous operations via '\n",
            "              'promises and async/await.'],\n",
            " 'pseudo-classes': ['CSS3 extended its capabilities with pseudo-classes, media '\n",
            "                    'queries for responsive design, and advanced features like '\n",
            "                    'Flexbox, Grid, and keyframe-based animations.'],\n",
            " 'responsive design': ['Bootstrap, a powerful CSS and JS framework, '\n",
            "                       'streamlines web development with a mobile-first grid '\n",
            "                       'system, customizable components like modals and '\n",
            "                       'carousels, and extensive utility classes, fostering '\n",
            "                       'rapid, responsive design.”',\n",
            "                       'CSS3 extended its capabilities with pseudo-classes, '\n",
            "                       'media queries for responsive design, and advanced '\n",
            "                       'features like Flexbox, Grid, and keyframe-based '\n",
            "                       'animations.'],\n",
            " 'serves': ['HTML (HyperText Markup Language) serves as the structural '\n",
            "            'backbone of web content, defining elements through tags such as '\n",
            "            '<div>, <p>, and <header>.'],\n",
            " 'spacing': ['CSS (Cascading Style Sheets) manages the presentation layer, '\n",
            "             'allowing precise control over typography, spacing, and layouts.'],\n",
            " 'structural backbone': ['HTML (HyperText Markup Language) serves as the '\n",
            "                         'structural backbone of web content, defining '\n",
            "                         'elements through tags such as <div>, <p>, and '\n",
            "                         '<header>.'],\n",
            " 'tags': ['HTML5, the latest iteration, introduced semantic elements like '\n",
            "          '<article> and <aside>, APIs for offline storage, and multimedia '\n",
            "          'support through <audio> and <video> tags.',\n",
            "          'HTML (HyperText Markup Language) serves as the structural backbone '\n",
            "          'of web content, defining elements through tags such as <div>, <p>, '\n",
            "          'and <header>.'],\n",
            " 'typography': ['CSS (Cascading Style Sheets) manages the presentation layer, '\n",
            "                'allowing precise control over typography, spacing, and '\n",
            "                'layouts.'],\n",
            " 'video': ['HTML5, the latest iteration, introduced semantic elements like '\n",
            "           '<article> and <aside>, APIs for offline storage, and multimedia '\n",
            "           'support through <audio> and <video> tags.'],\n",
            " 'web content': ['HTML (HyperText Markup Language) serves as the structural '\n",
            "                 'backbone of web content, defining elements through tags such '\n",
            "                 'as <div>, <p>, and <header>.']}\n"
          ]
        }
      ]
    },
    {
      "cell_type": "code",
      "source": [
        "def get_fill_in_the_blanks(mapping_sentences):\n",
        "  output = {}\n",
        "  blank_sentences = []\n",
        "  processed = []\n",
        "  keys=[]\n",
        "  for key in mapping_sentences:\n",
        "    if len(mapping_sentences[key])>0:\n",
        "        sent = mapping_sentences[key][0]\n",
        "        # Compile a regular expression pattern into a regular expression object, which can be used for matching and other methods\n",
        "        insensitive_sent = re.compile(re.escape(key), re.IGNORECASE)\n",
        "        no_of_replacements =  len(re.findall(re.escape(key),sent,re.IGNORECASE))\n",
        "        line = insensitive_sent.sub(' _________ ', sent)\n",
        "        if (mapping_sentences[key][0] not in processed) and no_of_replacements<2:\n",
        "            show = {\n",
        "                \"question\":line,\n",
        "                \"answer\":key\n",
        "            }\n",
        "            blank_sentences.append(show)\n",
        "            processed.append(mapping_sentences[key][0])\n",
        "            keys.append(key)\n",
        "  output[\"sentences\"]=blank_sentences[:10]\n",
        "  output[\"keys\"]=keys[:10]\n",
        "  return output\n",
        "\n",
        "fill_in_the_blanks = get_fill_in_the_blanks(mapping)\n",
        "print(fill_in_the_blanks['sentences'][3])"
      ],
      "metadata": {
        "colab": {
          "base_uri": "https://localhost:8080/"
        },
        "id": "6DFEP6XjtDAH",
        "outputId": "55a19c79-5343-4f17-9fae-48778f8a6917"
      },
      "execution_count": 28,
      "outputs": [
        {
          "output_type": "stream",
          "name": "stdout",
          "text": [
            "{'question': 'CSS (Cascading Style Sheets) manages the presentation layer,  _________  over typography, spacing, and layouts.', 'answer': 'allowing precise control'}\n"
          ]
        }
      ]
    }
  ]
}